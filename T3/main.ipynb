{
 "cells": [
  {
   "cell_type": "code",
   "execution_count": 6,
   "metadata": {},
   "outputs": [],
   "source": [
    "import findspark\n",
    "findspark.init()\n",
    "findspark.find()\n",
    "\n",
    "import pyspark\n",
    "from pyspark import SparkContext, SparkConf\n",
    "from pyspark.sql import SparkSession\n",
    "import pyspark.sql.functions as func\n",
    "from pyspark.sql import Window\n",
    "from pyspark.sql.types import *\n",
    "import re\n"
   ]
  },
  {
   "cell_type": "code",
   "execution_count": 7,
   "metadata": {},
   "outputs": [],
   "source": [
    "# Criando sessao no spark\n",
    "\n",
    "spark = SparkSession.builder \\\n",
    "    .master(\"local[1]\") \\\n",
    "    .appName(\"Debate Tweets\") \\\n",
    "    .config(\"spark.sql.debug.maxToStringFields\", 2000) \\\n",
    "    .getOrCreate()\n",
    "\n",
    "# Carregando dataframe\n",
    "df = spark.read.\\\n",
    "    format(\"com.databricks.spark.csv\") \\\n",
    "    .option(\"delimiter\", \"\\t\") \\\n",
    "    .load(\"./debate-tweets-001.tsv\")"
   ]
  },
  {
   "cell_type": "code",
   "execution_count": 8,
   "metadata": {},
   "outputs": [],
   "source": [
    "columns =  (\"id\"\n",
    "            ,\"content\"\n",
    "            ,\"coordinate_0\"\n",
    "            ,\"coordiante_1\"\n",
    "            ,\"retweeted\"\n",
    "            ,\"tweet_id\"\n",
    "            ,\"tweet_id_str\"\n",
    "            ,\"created_at\"\n",
    "            ,\"created_at_str\"\n",
    "            ,\"in_reply_to_user_id\"\n",
    "            ,\"lang\"\n",
    "            ,\"place_name\"\n",
    "            ,\"place_id\"\n",
    "            ,\"place_bb_00\"\n",
    "            ,\"place_bb_01\"\n",
    "            ,\"place_bb_10\"\n",
    "            ,\"place_bb_11\"\n",
    "            ,\"place_bb_20\"\n",
    "            ,\"place_bb_21\"\n",
    "            ,\"place_bb_30\"\n",
    "            ,\"place_bb_31\"\n",
    "            ,\"place_type\"\n",
    "            ,\"place_country_code\"\n",
    "            ,\"place_country\"\n",
    "            ,\"place_full_name\"\n",
    "            ,\"user__screen_name\"\n",
    "            ,\"user_id\"\n",
    "            ,\"user_id_str\"\n",
    "            ,\"user_location\"\n",
    "            ,\"user_friend_count\"\n",
    "            ,\"user_created_at\"\n",
    "            ,\"user_name\")\n",
    "\n",
    "df = df.toDF(*columns)"
   ]
  },
  {
   "attachments": {},
   "cell_type": "markdown",
   "metadata": {},
   "source": [
    "### 1. Quais foram as hashtags mais usadas pela manhã, tarde e noite? \n",
    "\n",
    "Foi necesssária a criação de uma UDF function visto que um tweet pode conter mais de uma '#' e o método regex_extract seleciona apenas a PRIMEIRA ocorrência do regex. A partir dos resultados obtidos com a UDF function foram feitas as consultas com filtros para manhã, tarde e noite."
   ]
  },
  {
   "cell_type": "code",
   "execution_count": 9,
   "metadata": {},
   "outputs": [],
   "source": [
    "def extract(s):\n",
    "    all_matches = re.findall(r'#\\w+', s)\n",
    "    return all_matches\n",
    "\n",
    "extract_hashtags = func.udf(extract, ArrayType(StringType()))\n",
    "\n",
    "df_hashtags = df \\\n",
    "    .filter(func.col('content').rlike('#\\w+')) \\\n",
    "    .withColumn('extracted', extract_hashtags('content')) \\\n",
    "    .select('created_at', func.explode_outer(func.col('extracted')).alias('hashtag') )\n"
   ]
  },
  {
   "attachments": {},
   "cell_type": "markdown",
   "metadata": {},
   "source": [
    "- `.filter`: fará com que apenas sentenças com ´#´ sejam selecionadas\n",
    "- `.withcolumn`: cria a coluna 'extracted', que é uma lista com as hashtags encontradas em cada tweet usando a funcao extract_hashtags\n",
    "- `.select`: seleciona ...\n",
    "    1. data de criação\n",
    "    2. `.explode_outer`: para transformar cada item da coluna 'extracted' em uma nova linha na coluna hashtag\n"
   ]
  },
  {
   "attachments": {},
   "cell_type": "markdown",
   "metadata": {},
   "source": [
    "#### Período da Manhã"
   ]
  },
  {
   "cell_type": "code",
   "execution_count": 10,
   "metadata": {},
   "outputs": [
    {
     "name": "stderr",
     "output_type": "stream",
     "text": [
      "[Stage 5:======================================================>  (20 + 1) / 21]\r"
     ]
    },
    {
     "name": "stdout",
     "output_type": "stream",
     "text": [
      "+--------------------+-----+\n",
      "|             hashtag|count|\n",
      "+--------------------+-----+\n",
      "|   #EMABiggestFans1D|14818|\n",
      "|#EMABiggestFansJu...|14367|\n",
      "|             #trndnl|  604|\n",
      "|#VoteVampsTeenAwards|  365|\n",
      "|             #bomdia|  317|\n",
      "|         #QueroNoTVZ|  315|\n",
      "|             #BomDia|  306|\n",
      "|              #TwOff|  282|\n",
      "|#EMABiggestFansJu...|  231|\n",
      "|      #QuandoEuCasar|  146|\n",
      "|            #BuenDia|  142|\n",
      "|                #MPN|  142|\n",
      "|       #KCAArgentina|  140|\n",
      "| #EMABiggestFans5SOS|  140|\n",
      "|#VemSdvComTiuMarkito|  138|\n",
      "|    #premiomultishow|  132|\n",
      "|      #MinhaVontadeÉ|  128|\n",
      "|#LastChanceVoteVamps|  125|\n",
      "|       #AUSTINMAHONE|  123|\n",
      "|#EМABiggestFansJu...|  120|\n",
      "+--------------------+-----+\n",
      "only showing top 20 rows\n",
      "\n"
     ]
    },
    {
     "name": "stderr",
     "output_type": "stream",
     "text": [
      "                                                                                \r"
     ]
    }
   ],
   "source": [
    "df_hashtags \\\n",
    "    .filter(func.col('created_at').substr(12,2).between(6,11)) \\\n",
    "    .groupBy('hashtag') \\\n",
    "    .count() \\\n",
    "    .sort('count', ascending=0) \\\n",
    "    .dropna() \\\n",
    "    .show(n=20)"
   ]
  },
  {
   "attachments": {},
   "cell_type": "markdown",
   "metadata": {},
   "source": [
    "- `.filter`: filtra linhas que contenham substring no campo 'created_at' com horarios entre 6 e 12 horas\n",
    "- `.groupBy`: agrupa hashatags repetidas\n",
    "- `.count`: cria coluna 'count' com contador da agrupação\n",
    "- `.sort`: ordena dataframe usando a coluna count\n",
    "- `.show`: mostra o dataframe"
   ]
  },
  {
   "attachments": {},
   "cell_type": "markdown",
   "metadata": {},
   "source": [
    "#### Período da Tarde"
   ]
  },
  {
   "cell_type": "code",
   "execution_count": 11,
   "metadata": {},
   "outputs": [
    {
     "name": "stderr",
     "output_type": "stream",
     "text": [
      "[Stage 8:======================================================>  (20 + 1) / 21]\r"
     ]
    },
    {
     "name": "stdout",
     "output_type": "stream",
     "text": [
      "+--------------------+-----+\n",
      "|             hashtag|count|\n",
      "+--------------------+-----+\n",
      "|   #EMABiggestFans1D|70859|\n",
      "|#EMABiggestFansJu...|60128|\n",
      "|        #StealMyGirl| 5704|\n",
      "|         #QueroNoTVZ| 5026|\n",
      "|   #bigpaynodanceoff| 1514|\n",
      "|  #AustinMahoneChile| 1230|\n",
      "|       #AustinMahone| 1111|\n",
      "|#demiyourstorydoe...| 1090|\n",
      "|             #trndnl| 1049|\n",
      "|    #HottieOfTheWeek|  925|\n",
      "|#EMABiggestFansAr...|  890|\n",
      "|           #VamosLaU|  851|\n",
      "| #EMABiggestFans5SOS|  833|\n",
      "|       #KCAArgentina|  819|\n",
      "|#LuanSantanaNaHor...|  776|\n",
      "|       #AUSTINMAHONE|  769|\n",
      "|#ChristianNoEncon...|  755|\n",
      "|#VoteVampsTeenAwards|  751|\n",
      "|               #AMAs|  744|\n",
      "|   #UnlockMockingjay|  731|\n",
      "+--------------------+-----+\n",
      "only showing top 20 rows\n",
      "\n"
     ]
    },
    {
     "name": "stderr",
     "output_type": "stream",
     "text": [
      "                                                                                \r"
     ]
    }
   ],
   "source": [
    "df_hashtags \\\n",
    "    .filter(func.col('created_at').substr(12,2).between(12,18)) \\\n",
    "    .groupBy('hashtag') \\\n",
    "    .count() \\\n",
    "    .sort('count', ascending=0) \\\n",
    "    .dropna() \\\n",
    "    .show(n=20)"
   ]
  },
  {
   "attachments": {},
   "cell_type": "markdown",
   "metadata": {},
   "source": [
    "- `.filter`: filtra linhas que contenham substring no campo 'created_at' com horarios entre 6 e 12 horas\n",
    "- `.groupby`: agrupa hashatags repetidas\n",
    "- `.count`: cria coluna 'count' com contador da agrupação\n",
    "- `.sort`: ordena dataframe usando a coluna count\n",
    "- `.show`: mostra o dataframe\n",
    "\n"
   ]
  },
  {
   "attachments": {},
   "cell_type": "markdown",
   "metadata": {},
   "source": [
    "#### Período da Noite"
   ]
  },
  {
   "cell_type": "code",
   "execution_count": 12,
   "metadata": {},
   "outputs": [
    {
     "name": "stderr",
     "output_type": "stream",
     "text": [
      "[Stage 11:=====================================================>  (20 + 1) / 21]\r"
     ]
    },
    {
     "name": "stdout",
     "output_type": "stream",
     "text": [
      "+--------------------+------+\n",
      "|             hashtag| count|\n",
      "+--------------------+------+\n",
      "|#EMABiggestFansJu...|133599|\n",
      "|   #EMABiggestFans1D|129768|\n",
      "|       #camilasayshi| 10507|\n",
      "|        #DebateNoSBT|  3416|\n",
      "|    #CartersNewVideo|  3207|\n",
      "|   #bigpaynodanceoff|  2878|\n",
      "|     #TheVoiceBrasil|  2819|\n",
      "|          #Vote5HEMA|  2666|\n",
      "|        #AssistamODR|  2545|\n",
      "|     #DebateNaRecord|  2494|\n",
      "|             #trndnl|  2382|\n",
      "|#LuanSantanaNaHor...|  2369|\n",
      "|    #QueroDilmaTreze|  2153|\n",
      "|  #AustinMahoneChile|  1997|\n",
      "|#EМABiggestFansJu...|  1911|\n",
      "|     #debatenarecord|  1858|\n",
      "|#LinkinParkNoMult...|  1853|\n",
      "|       #AustinMahone|  1783|\n",
      "|       #KCAArgentina|  1670|\n",
      "|#LançamentoDoClip...|  1652|\n",
      "+--------------------+------+\n",
      "only showing top 20 rows\n",
      "\n"
     ]
    },
    {
     "name": "stderr",
     "output_type": "stream",
     "text": [
      "                                                                                \r"
     ]
    }
   ],
   "source": [
    "df_hashtags \\\n",
    "    .filter(func.col('created_at').substr(12,2).between(19,23) | func.col('created_at').substr(12,2).between(0,5)) \\\n",
    "    .groupBy('hashtag') \\\n",
    "    .count() \\\n",
    "    .sort('count', ascending=0) \\\n",
    "    .dropna() \\\n",
    "    .show(n=20)"
   ]
  },
  {
   "attachments": {},
   "cell_type": "markdown",
   "metadata": {},
   "source": [
    "- `.filter`: filtra linhas que contenham substring no campo 'created_at' com horarios entre 19 e 23 horas ou 0 e 5 horas\n",
    "- `.groupby`: agrupa hashatags repetidas\n",
    "- `.count`: cria coluna 'count' com contador da agrupação\n",
    "- `.sort`: ordena dataframe usando a coluna count\n",
    "- `.show`: mostra o dataframe"
   ]
  },
  {
   "attachments": {},
   "cell_type": "markdown",
   "metadata": {},
   "source": [
    "### 2. Quais as hashtags mais usadas em cada dia?\n",
    "\n",
    "Nesse item foi utilizada a feature de window do pyspark que executa operações estatísticas, como classificação, número da linha, etc. em um grupo, quadro ou coleção de linhas e retorna os resultados para cada linha individualmente.\n"
   ]
  },
  {
   "cell_type": "code",
   "execution_count": 13,
   "metadata": {},
   "outputs": [
    {
     "name": "stderr",
     "output_type": "stream",
     "text": [
      "                                                                                \r"
     ]
    },
    {
     "name": "stdout",
     "output_type": "stream",
     "text": [
      "+----------+---------------------------+-----+\n",
      "|timestamp |hashtag                    |count|\n",
      "+----------+---------------------------+-----+\n",
      "|2014-10-15|#EMABiggestFans1D          |34547|\n",
      "|2014-10-16|#EMABiggestFans1D          |68633|\n",
      "|2014-10-17|#EMABiggestFansJustinBieber|49488|\n",
      "|2014-10-18|#EMABiggestFansJustinBieber|27454|\n",
      "|2014-10-19|#EMABiggestFansJustinBieber|33582|\n",
      "|2014-10-20|#EMABiggestFansJustinBieber|10452|\n",
      "+----------+---------------------------+-----+\n",
      "\n"
     ]
    },
    {
     "name": "stderr",
     "output_type": "stream",
     "text": [
      "                                                                                \r"
     ]
    }
   ],
   "source": [
    "# Habilita formato de data com EEE\n",
    "spark.sql(\"set spark.sql.legacy.timeParserPolicy=LEGACY\") \n",
    "\n",
    "# Window criada para usar filtro de máximo entre os grupos\n",
    "w = Window.partitionBy('timestamp') \n",
    "\n",
    "df_hashtags \\\n",
    "    .select('hashtag', func.to_timestamp(func.col('created_at'), 'EEE MMM dd HH:mm:ss ZZZZ yyyy').substr(0,10).alias('timestamp')) \\\n",
    "    .groupBy( 'timestamp','hashtag') \\\n",
    "    .count() \\\n",
    "    .sort('count', ascending=0) \\\n",
    "    .withColumn('max', func.max('count').over(w)) \\\n",
    "    .where(func.col('count') == func.col('max')) \\\n",
    "    .drop('max') \\\n",
    "    .dropna() \\\n",
    "    .show(truncate=0)\n"
   ]
  },
  {
   "attachments": {},
   "cell_type": "markdown",
   "metadata": {},
   "source": [
    "- `.dropna`: exclui linhas com valores nulos\n",
    "- `.select`: seleciona as colunas:\n",
    "   1. hashtag\n",
    "   2. cria coluna timestampo com base na coluna created_at\n",
    "- `.groupBy`: agrupa por timestamp de criação e hashtag\n",
    "- `.count`: cria coluna 'count' com contador da agrupação\n",
    "- `.sort`: ordena dataframe usando a coluna count\n",
    "- `.withColumn`: cria coluna max, que terá a quantidade maxima de cada grupo\n",
    "- `.where`: filtra apenas os maximos\n",
    "- `.drop`: exclui coluna com os maximos\n",
    "- `.show`: mostra o datafram"
   ]
  },
  {
   "attachments": {},
   "cell_type": "markdown",
   "metadata": {},
   "source": [
    "### 3. Qual o número de tweets por hora a cada dia?\n",
    "\n",
    "Nesse item foi necessário realizar um parse da coluna `created_at` que tava em formato UTC para um timestamp, então conseguimos fazer agrupamentos com base na substring do timestamp que continha apenas o ano, dia e mês. "
   ]
  },
  {
   "cell_type": "code",
   "execution_count": 14,
   "metadata": {},
   "outputs": [
    {
     "name": "stderr",
     "output_type": "stream",
     "text": [
      "[Stage 26:=====================================================>  (20 + 1) / 21]\r"
     ]
    },
    {
     "name": "stdout",
     "output_type": "stream",
     "text": [
      "+----------+------------------+\n",
      "|timestamp |number of tweets  |\n",
      "+----------+------------------+\n",
      "|2014-10-15|6041.916666666667 |\n",
      "|null      |1.4166666666666667|\n",
      "|2014-10-16|12244.208333333334|\n",
      "|2014-10-17|10139.125         |\n",
      "|2014-10-18|7554.708333333333 |\n",
      "|2014-10-19|9477.791666666666 |\n",
      "|2014-10-20|3134.625          |\n",
      "+----------+------------------+\n",
      "\n"
     ]
    },
    {
     "name": "stderr",
     "output_type": "stream",
     "text": [
      "                                                                                \r"
     ]
    }
   ],
   "source": [
    "# Habilita formato de data com EEE\n",
    "spark.sql(\"set spark.sql.legacy.timeParserPolicy=LEGACY\") \n",
    "\n",
    "df_hashtags \\\n",
    "    .dropna() \\\n",
    "    .select(func.to_timestamp(func.col('created_at'), 'EEE MMM dd HH:mm:ss ZZZZ yyyy').substr(0,10).alias('timestamp')) \\\n",
    "    .groupBy( 'timestamp') \\\n",
    "    .count() \\\n",
    "    .withColumn('number of tweets', func.col('count') / 24) \\\n",
    "    .drop('count') \\\n",
    "    .show(truncate=0)\n"
   ]
  },
  {
   "attachments": {},
   "cell_type": "markdown",
   "metadata": {},
   "source": [
    "- `.select`: seleciona coluna com timestamp criado a partir da coluna created_at\n",
    "- `.groupBy`: agrupa pela data\n",
    "- `.agg`: cria coluna 'count' que é um contador de tweets por dia\n",
    "- `.withColumn`: cria coluna 'number of tweets' com quantidade de tweets por hora a cada dia (count / 24)\n",
    "- `.drop`: exclui coluna de contador geral\n",
    "- `.show`: mostra o datafram"
   ]
  },
  {
   "attachments": {},
   "cell_type": "markdown",
   "metadata": {},
   "source": [
    "### 4. Quais as principais sentenças relacionadas à palavra “Dilma”?\n",
    "\n",
    "Foi utilizado um regex simples na coluna `content`, para filtrar tweets que continham a palvara 'dilma', após isso bastou utilizar as funções padrão para agregações de dados."
   ]
  },
  {
   "cell_type": "code",
   "execution_count": 15,
   "metadata": {},
   "outputs": [
    {
     "name": "stderr",
     "output_type": "stream",
     "text": [
      "[Stage 29:=====================================================>  (20 + 1) / 21]\r"
     ]
    },
    {
     "name": "stdout",
     "output_type": "stream",
     "text": [
      "+--------------------------------------------------------------------------------------------------------------------------------------------+-----+\n",
      "|content                                                                                                                                     |count|\n",
      "+--------------------------------------------------------------------------------------------------------------------------------------------+-----+\n",
      "|#QueroDilmaTreze                                                                                                                            |110  |\n",
      "|#MelhorcomDilma13                                                                                                                           |34   |\n",
      "|#MenosOdioMaisDilma                                                                                                                         |29   |\n",
      "|#Dilma13                                                                                                                                    |24   |\n",
      "|#VouComDilma13                                                                                                                              |24   |\n",
      "|#dilmavaiperderaecio45vencer                                                                                                                |24   |\n",
      "|#DilmaTheVodka                                                                                                                              |21   |\n",
      "|#QueroDilma13                                                                                                                               |15   |\n",
      "|#Dilma13PraVencer                                                                                                                           |13   |\n",
      "|Dilma 13                                                                                                                                    |7    |\n",
      "|Cala a boca Dilma                                                                                                                           |6    |\n",
      "|— Dilma ou Aécio? — Dois hambúrgueres, alface, queijo molho especial, cebola picles num pão com gergelim.                                   |5    |\n",
      "|#ForaDilma                                                                                                                                  |5    |\n",
      "|Dilma cala a boca                                                                                                                           |5    |\n",
      "|Se eu fosse a Dilma sabendo que iria ficar desempregada, aproveitava que tava no SBT e já pedia ao Silvo Santos pra virar consultora Jequiti|5    |\n",
      "|#ChupaDilma                                                                                                                                 |5    |\n",
      "|#Dilma13MudaMais                                                                                                                            |4    |\n",
      "|Dilma                                                                                                                                       |4    |\n",
      "|Aécio acabando com a Dilma                                                                                                                  |4    |\n",
      "|#VoucomDilma13                                                                                                                              |4    |\n",
      "+--------------------------------------------------------------------------------------------------------------------------------------------+-----+\n",
      "only showing top 20 rows\n",
      "\n"
     ]
    },
    {
     "name": "stderr",
     "output_type": "stream",
     "text": [
      "                                                                                \r"
     ]
    }
   ],
   "source": [
    "df \\\n",
    "    .select('content') \\\n",
    "    .filter(func.col('content').rlike('(?i)(dilma)')) \\\n",
    "    .groupBy('content') \\\n",
    "    .count() \\\n",
    "    .sort('count', ascending=0) \\\n",
    "    .show(truncate=0, n=20)"
   ]
  },
  {
   "attachments": {},
   "cell_type": "markdown",
   "metadata": {},
   "source": [
    "- `.select`: seleciona apenas a coluna content\n",
    "- `.fiter`: filtra a coluna content com expressões que deem match com a palabra Dilma\n",
    "- `.groupBy`: agrupa dados pela coluna content\n",
    "- `.count`: cria coluna 'count' com contage baseado no goupby\n",
    "- `.sort`: ordena de forma decrescente\n",
    "- `.show`: mostra o dataframe"
   ]
  },
  {
   "attachments": {},
   "cell_type": "markdown",
   "metadata": {},
   "source": [
    "#### 5. Quais as princiapais sentenças relacionadas à palavra \"Aécio\"?\n",
    "\n",
    "Mesma lógica da questão anterior apenas mudando de 'Dilma' para 'Aécio'"
   ]
  },
  {
   "cell_type": "code",
   "execution_count": 16,
   "metadata": {},
   "outputs": [
    {
     "name": "stderr",
     "output_type": "stream",
     "text": [
      "[Stage 32:=====================================================>  (20 + 1) / 21]\r"
     ]
    },
    {
     "name": "stdout",
     "output_type": "stream",
     "text": [
      "+-----------------------------------------------------------------------------------------------------------------------------------------+-----+\n",
      "|content                                                                                                                                  |count|\n",
      "+-----------------------------------------------------------------------------------------------------------------------------------------+-----+\n",
      "|#AgoraÉAécioBrasil                                                                                                                       |10   |\n",
      "|#EmTodoBrasilAécio45                                                                                                                     |9    |\n",
      "|#Aécio45                                                                                                                                 |6    |\n",
      "|Aé aé aé Aécio                                                                                                                           |6    |\n",
      "|#AgoraBrasilAécio45                                                                                                                      |6    |\n",
      "|Aécio                                                                                                                                    |5    |\n",
      "|— Dilma ou Aécio? — Dois hambúrgueres, alface, queijo molho especial, cebola picles num pão com gergelim.                                |5    |\n",
      "|Aécio 45                                                                                                                                 |4    |\n",
      "|Só pra lembrar: Aécio 45 Dilma 13 CPM 22 Nx 0 Ben 10 Atlético 4 Corinthians 1                                                            |4    |\n",
      "|Aécio, aprovado até pela Dilma                                                                                                           |4    |\n",
      "|Aécio acabando com a Dilma                                                                                                               |4    |\n",
      "|@RachelSherazade #AgoraBrasilAécio45                                                                                                     |3    |\n",
      "|Chupa Aécio                                                                                                                              |3    |\n",
      "|Aécio falando de combate á drogas?? Como assim??                                                                                         |3    |\n",
      "|Vai Aécio                                                                                                                                |3    |\n",
      "|Aécio de cu é rola                                                                                                                       |3    |\n",
      "|Aécio sambando                                                                                                                           |3    |\n",
      "|“@dilmabr: Eu investigo tudo, Aécio. Eu não engavetei 271 processos, candidato. É isso que não pode ocorrer no Brasil.  #QueroDilmaTreze”|3    |\n",
      "|Irônico é o Aécio falando sobre o dia do professor e a valorização da classe, qndo ele pagava um dos piores do salário do Brasil         |2    |\n",
      "|Vcs aí tentando decidir entre Dilma e Aécio e eu ainda não decidi se a lenda dessa paixão faz sorrir ou faz chorar                       |2    |\n",
      "+-----------------------------------------------------------------------------------------------------------------------------------------+-----+\n",
      "only showing top 20 rows\n",
      "\n"
     ]
    },
    {
     "name": "stderr",
     "output_type": "stream",
     "text": [
      "                                                                                \r"
     ]
    }
   ],
   "source": [
    "df \\\n",
    "    .select('content') \\\n",
    "    .filter(func.col('content').rlike('(?i)(aécio)')) \\\n",
    "    .groupBy('content') \\\n",
    "    .count() \\\n",
    "    .sort('count', ascending=0) \\\n",
    "    .show(truncate=0, n=20)"
   ]
  },
  {
   "attachments": {},
   "cell_type": "markdown",
   "metadata": {},
   "source": [
    "- `.select`: seleciona apenas a coluna content\n",
    "- `.fiter`: filtra a coluna content com expressões que deem match com a palabra Dilma\n",
    "- `.groupBy`: agrupa dados pela coluna content\n",
    "- `.count`: cria coluna 'count' com contage baseado no goupby\n",
    "- `.sort`: ordena de forma decrescente\n",
    "- `.show`: mostra o dataframe"
   ]
  }
 ],
 "metadata": {
  "kernelspec": {
   "display_name": ".venv",
   "language": "python",
   "name": "python3"
  },
  "language_info": {
   "codemirror_mode": {
    "name": "ipython",
    "version": 3
   },
   "file_extension": ".py",
   "mimetype": "text/x-python",
   "name": "python",
   "nbconvert_exporter": "python",
   "pygments_lexer": "ipython3",
   "version": "3.9.2"
  },
  "orig_nbformat": 4,
  "vscode": {
   "interpreter": {
    "hash": "fb5ef3cb5c4fba3235c1cadbd587631132299defed20910895aebb886de3d707"
   }
  }
 },
 "nbformat": 4,
 "nbformat_minor": 2
}
